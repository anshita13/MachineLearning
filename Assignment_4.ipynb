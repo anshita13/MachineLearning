{
 "cells": [
  {
   "cell_type": "markdown",
   "metadata": {},
   "source": [
    "# Question1.1"
   ]
  },
  {
   "cell_type": "code",
   "execution_count": 1,
   "metadata": {},
   "outputs": [
    {
     "name": "stdout",
     "output_type": "stream",
     "text": [
      "Enter side 1: 5\n",
      "Enter side 2: 12\n",
      "Enter side 3: 13\n",
      "Area of triangle is: 30.0\n"
     ]
    }
   ],
   "source": [
    "class Triangle:\n",
    "    def __init__(self,a,b,c):\n",
    "        self.a=a\n",
    "        self.b=b\n",
    "        self.c=c\n",
    "\n",
    "class Trianglecalc(Triangle):\n",
    "        def __init__(self,a,b,c):\n",
    "            super(Trianglecalc,self).__init__(a,b,c)\n",
    "        \n",
    "        def area(self):\n",
    "            s= ((self.a+self.b+self.c)/2)\n",
    "            return(s*(s-self.a)*(s-self.b)*(s-self.c))**0.5\n",
    "\n",
    "side1= int(input(\"Enter side 1: \"))\n",
    "side2= int(input(\"Enter side 2: \"))\n",
    "side3= int(input(\"Enter side 3: \"))\n",
    "print(\"Area of triangle is: \"+ str(Trianglecalc(side1,side2,side3).area()))"
   ]
  },
  {
   "cell_type": "markdown",
   "metadata": {},
   "source": [
    "---"
   ]
  },
  {
   "cell_type": "markdown",
   "metadata": {},
   "source": [
    "# Question 1.2"
   ]
  },
  {
   "cell_type": "code",
   "execution_count": 2,
   "metadata": {},
   "outputs": [
    {
     "name": "stdout",
     "output_type": "stream",
     "text": [
      "Enter words: anshita, om , khurana\n",
      "Enter length to check: 6\n",
      "The list of words longer than mentioned length is ['anshita,', 'khurana']\n"
     ]
    }
   ],
   "source": [
    "def input_word_length():\n",
    "    words=input(\"Enter words: \").split(' ')\n",
    "    word_length=int(input(\"Enter length to check: \"))\n",
    "    final_words=filter_long_words(words,word_length)\n",
    "\n",
    "    print(\"The list of words longer than mentioned length is\", final_words)\n",
    "\n",
    "def filter_long_words(string,length):\n",
    "    new_words = []\n",
    "    for i in range(len(string)):\n",
    "        if len(string[i]) > length:\n",
    "            new_words.append(string[i])\n",
    "    return new_words\n",
    "\n",
    "input_word_length()"
   ]
  },
  {
   "cell_type": "markdown",
   "metadata": {},
   "source": [
    "---"
   ]
  },
  {
   "cell_type": "markdown",
   "metadata": {},
   "source": [
    "# Question 2.1"
   ]
  },
  {
   "cell_type": "code",
   "execution_count": 3,
   "metadata": {},
   "outputs": [
    {
     "name": "stdout",
     "output_type": "stream",
     "text": [
      "Word length: [2, 3, 4]\n"
     ]
    }
   ],
   "source": [
    "word_list= [\"ab\", \"cde\", \"erty\"]\n",
    "def lengthcheck(word_list):\n",
    "    length=[]\n",
    "    for i in word_list:\n",
    "        length.append(len(i))\n",
    "    return length\n",
    "\n",
    "print(\"Word length:\" , lengthcheck(word_list))"
   ]
  },
  {
   "cell_type": "markdown",
   "metadata": {},
   "source": [
    "---"
   ]
  },
  {
   "cell_type": "markdown",
   "metadata": {},
   "source": [
    "# Question 2.2"
   ]
  },
  {
   "cell_type": "code",
   "execution_count": 6,
   "metadata": {},
   "outputs": [
    {
     "name": "stdout",
     "output_type": "stream",
     "text": [
      "Enter the character to check if it is vowel or not: A\n",
      "True- if it is a vowel, False- if it is not a vowel\n",
      "True\n"
     ]
    }
   ],
   "source": [
    "def input_char():\n",
    "    letter_tocheck= input(\"Enter the character to check if it is vowel or not: \")\n",
    "    print(\"True- if it is a vowel, False- if it is not a vowel\")\n",
    "    print(check(letter_tocheck))\n",
    "    \n",
    "def check(letter):\n",
    "    if (len(letter)==1):\n",
    "        if(letter=='A' or letter=='a' or letter=='E' or letter=='e' or letter=='I' or letter=='i' or letter=='O' or letter=='o' or letter=='U' or letter=='u'):\n",
    "            return True\n",
    "        else:\n",
    "            return False\n",
    "    else:\n",
    "        print(\"Invalid input. Kindly enter single character\")\n",
    "\n",
    "input_char()"
   ]
  },
  {
   "cell_type": "markdown",
   "metadata": {},
   "source": [
    "---"
   ]
  }
 ],
 "metadata": {
  "kernelspec": {
   "display_name": "Python 3",
   "language": "python",
   "name": "python3"
  },
  "language_info": {
   "codemirror_mode": {
    "name": "ipython",
    "version": 3
   },
   "file_extension": ".py",
   "mimetype": "text/x-python",
   "name": "python",
   "nbconvert_exporter": "python",
   "pygments_lexer": "ipython3",
   "version": "3.7.4"
  }
 },
 "nbformat": 4,
 "nbformat_minor": 2
}
